{
 "cells": [
  {
   "cell_type": "code",
   "execution_count": 1,
   "metadata": {
    "collapsed": false
   },
   "outputs": [],
   "source": [
    "import pandas as pd\n",
    "from pandas import Series, DataFrame\n",
    "import numpy as np\n",
    "\n",
    "import matplotlib.pyplot as plt\n",
    "import seaborn as sns\n",
    "sns.set_style('whitegrid')\n",
    "%matplotlib inline\n",
    "\n",
    "#from pandas.io.data import DataReader\n",
    "# from pandas.io import data\n",
    "from pandas_datareader import data,wb\n",
    "\n",
    "from datetime import datetime"
   ]
  },
  {
   "cell_type": "markdown",
   "metadata": {},
   "source": [
    "# Yahoo Finance"
   ]
  },
  {
   "cell_type": "code",
   "execution_count": 2,
   "metadata": {
    "collapsed": false
   },
   "outputs": [],
   "source": [
    "start = datetime(1900,1,1)\n",
    "# end = datetime(2013,1,1)\n",
    "end = datetime.now()\n",
    "S1101 = data.DataReader('1101.tw', 'yahoo',start,end)"
   ]
  },
  {
   "cell_type": "code",
   "execution_count": 3,
   "metadata": {
    "collapsed": false
   },
   "outputs": [
    {
     "data": {
      "text/html": [
       "<div>\n",
       "<table border=\"1\" class=\"dataframe\">\n",
       "  <thead>\n",
       "    <tr style=\"text-align: right;\">\n",
       "      <th></th>\n",
       "      <th>Open</th>\n",
       "      <th>High</th>\n",
       "      <th>Low</th>\n",
       "      <th>Close</th>\n",
       "      <th>Volume</th>\n",
       "      <th>Adj Close</th>\n",
       "    </tr>\n",
       "  </thead>\n",
       "  <tbody>\n",
       "    <tr>\n",
       "      <th>count</th>\n",
       "      <td>4467.000000</td>\n",
       "      <td>4467.000000</td>\n",
       "      <td>4467.000000</td>\n",
       "      <td>4467.000000</td>\n",
       "      <td>4.467000e+03</td>\n",
       "      <td>4467.000000</td>\n",
       "    </tr>\n",
       "    <tr>\n",
       "      <th>mean</th>\n",
       "      <td>28.272047</td>\n",
       "      <td>28.604452</td>\n",
       "      <td>27.893845</td>\n",
       "      <td>28.236354</td>\n",
       "      <td>3.695252e+09</td>\n",
       "      <td>20.296369</td>\n",
       "    </tr>\n",
       "    <tr>\n",
       "      <th>std</th>\n",
       "      <td>12.251890</td>\n",
       "      <td>12.355374</td>\n",
       "      <td>12.104812</td>\n",
       "      <td>12.237210</td>\n",
       "      <td>1.241274e+10</td>\n",
       "      <td>11.984120</td>\n",
       "    </tr>\n",
       "    <tr>\n",
       "      <th>min</th>\n",
       "      <td>6.336800</td>\n",
       "      <td>6.381760</td>\n",
       "      <td>6.291870</td>\n",
       "      <td>6.291870</td>\n",
       "      <td>0.000000e+00</td>\n",
       "      <td>2.839490</td>\n",
       "    </tr>\n",
       "    <tr>\n",
       "      <th>25%</th>\n",
       "      <td>17.396535</td>\n",
       "      <td>17.648680</td>\n",
       "      <td>17.236170</td>\n",
       "      <td>17.419470</td>\n",
       "      <td>6.799500e+06</td>\n",
       "      <td>8.601060</td>\n",
       "    </tr>\n",
       "    <tr>\n",
       "      <th>50%</th>\n",
       "      <td>29.821600</td>\n",
       "      <td>30.117800</td>\n",
       "      <td>29.426600</td>\n",
       "      <td>29.750000</td>\n",
       "      <td>1.273900e+07</td>\n",
       "      <td>20.651200</td>\n",
       "    </tr>\n",
       "    <tr>\n",
       "      <th>75%</th>\n",
       "      <td>37.350000</td>\n",
       "      <td>37.721330</td>\n",
       "      <td>36.816275</td>\n",
       "      <td>37.300000</td>\n",
       "      <td>3.275490e+07</td>\n",
       "      <td>30.676100</td>\n",
       "    </tr>\n",
       "    <tr>\n",
       "      <th>max</th>\n",
       "      <td>59.939360</td>\n",
       "      <td>59.939360</td>\n",
       "      <td>57.964400</td>\n",
       "      <td>59.840580</td>\n",
       "      <td>1.739255e+11</td>\n",
       "      <td>44.623930</td>\n",
       "    </tr>\n",
       "  </tbody>\n",
       "</table>\n",
       "</div>"
      ],
      "text/plain": [
       "              Open         High          Low        Close        Volume  \\\n",
       "count  4467.000000  4467.000000  4467.000000  4467.000000  4.467000e+03   \n",
       "mean     28.272047    28.604452    27.893845    28.236354  3.695252e+09   \n",
       "std      12.251890    12.355374    12.104812    12.237210  1.241274e+10   \n",
       "min       6.336800     6.381760     6.291870     6.291870  0.000000e+00   \n",
       "25%      17.396535    17.648680    17.236170    17.419470  6.799500e+06   \n",
       "50%      29.821600    30.117800    29.426600    29.750000  1.273900e+07   \n",
       "75%      37.350000    37.721330    36.816275    37.300000  3.275490e+07   \n",
       "max      59.939360    59.939360    57.964400    59.840580  1.739255e+11   \n",
       "\n",
       "         Adj Close  \n",
       "count  4467.000000  \n",
       "mean     20.296369  \n",
       "std      11.984120  \n",
       "min       2.839490  \n",
       "25%       8.601060  \n",
       "50%      20.651200  \n",
       "75%      30.676100  \n",
       "max      44.623930  "
      ]
     },
     "execution_count": 3,
     "metadata": {},
     "output_type": "execute_result"
    }
   ],
   "source": [
    "S1101.describe()"
   ]
  },
  {
   "cell_type": "code",
   "execution_count": 4,
   "metadata": {
    "collapsed": false
   },
   "outputs": [
    {
     "data": {
      "text/html": [
       "<div>\n",
       "<table border=\"1\" class=\"dataframe\">\n",
       "  <thead>\n",
       "    <tr style=\"text-align: right;\">\n",
       "      <th></th>\n",
       "      <th>Open</th>\n",
       "      <th>High</th>\n",
       "      <th>Low</th>\n",
       "      <th>Close</th>\n",
       "      <th>Volume</th>\n",
       "      <th>Adj Close</th>\n",
       "    </tr>\n",
       "    <tr>\n",
       "      <th>Date</th>\n",
       "      <th></th>\n",
       "      <th></th>\n",
       "      <th></th>\n",
       "      <th></th>\n",
       "      <th></th>\n",
       "      <th></th>\n",
       "    </tr>\n",
       "  </thead>\n",
       "  <tbody>\n",
       "    <tr>\n",
       "      <th>2000-01-04</th>\n",
       "      <td>27.31084</td>\n",
       "      <td>27.95728</td>\n",
       "      <td>27.31084</td>\n",
       "      <td>27.95728</td>\n",
       "      <td>82547680000</td>\n",
       "      <td>11.20386</td>\n",
       "    </tr>\n",
       "    <tr>\n",
       "      <th>2000-01-05</th>\n",
       "      <td>27.39163</td>\n",
       "      <td>29.41176</td>\n",
       "      <td>27.39163</td>\n",
       "      <td>28.68452</td>\n",
       "      <td>127366387200</td>\n",
       "      <td>11.49530</td>\n",
       "    </tr>\n",
       "    <tr>\n",
       "      <th>2000-01-06</th>\n",
       "      <td>28.44215</td>\n",
       "      <td>28.76531</td>\n",
       "      <td>27.23005</td>\n",
       "      <td>27.47254</td>\n",
       "      <td>63273696000</td>\n",
       "      <td>11.00960</td>\n",
       "    </tr>\n",
       "    <tr>\n",
       "      <th>2000-01-07</th>\n",
       "      <td>26.34136</td>\n",
       "      <td>27.55333</td>\n",
       "      <td>25.85649</td>\n",
       "      <td>27.39163</td>\n",
       "      <td>74418476800</td>\n",
       "      <td>10.97717</td>\n",
       "    </tr>\n",
       "    <tr>\n",
       "      <th>2000-01-10</th>\n",
       "      <td>27.47254</td>\n",
       "      <td>28.44215</td>\n",
       "      <td>27.06847</td>\n",
       "      <td>28.28044</td>\n",
       "      <td>66874060800</td>\n",
       "      <td>11.33337</td>\n",
       "    </tr>\n",
       "  </tbody>\n",
       "</table>\n",
       "</div>"
      ],
      "text/plain": [
       "                Open      High       Low     Close        Volume  Adj Close\n",
       "Date                                                                       \n",
       "2000-01-04  27.31084  27.95728  27.31084  27.95728   82547680000   11.20386\n",
       "2000-01-05  27.39163  29.41176  27.39163  28.68452  127366387200   11.49530\n",
       "2000-01-06  28.44215  28.76531  27.23005  27.47254   63273696000   11.00960\n",
       "2000-01-07  26.34136  27.55333  25.85649  27.39163   74418476800   10.97717\n",
       "2000-01-10  27.47254  28.44215  27.06847  28.28044   66874060800   11.33337"
      ]
     },
     "execution_count": 4,
     "metadata": {},
     "output_type": "execute_result"
    }
   ],
   "source": [
    "S1101.head()"
   ]
  },
  {
   "cell_type": "code",
   "execution_count": 5,
   "metadata": {
    "collapsed": true
   },
   "outputs": [],
   "source": [
    "S1101Act = data.DataReader('1101.tw', 'yahoo-actions',start,end)"
   ]
  },
  {
   "cell_type": "code",
   "execution_count": 6,
   "metadata": {
    "collapsed": false
   },
   "outputs": [
    {
     "data": {
      "text/html": [
       "<div>\n",
       "<table border=\"1\" class=\"dataframe\">\n",
       "  <thead>\n",
       "    <tr style=\"text-align: right;\">\n",
       "      <th></th>\n",
       "      <th>action</th>\n",
       "      <th>value</th>\n",
       "    </tr>\n",
       "  </thead>\n",
       "  <tbody>\n",
       "    <tr>\n",
       "      <th>2016-07-25</th>\n",
       "      <td>DIVIDEND</td>\n",
       "      <td>1.33</td>\n",
       "    </tr>\n",
       "    <tr>\n",
       "      <th>2015-07-23</th>\n",
       "      <td>DIVIDEND</td>\n",
       "      <td>2.49</td>\n",
       "    </tr>\n",
       "    <tr>\n",
       "      <th>2014-07-17</th>\n",
       "      <td>DIVIDEND</td>\n",
       "      <td>2.30</td>\n",
       "    </tr>\n",
       "    <tr>\n",
       "      <th>2013-07-25</th>\n",
       "      <td>DIVIDEND</td>\n",
       "      <td>1.90</td>\n",
       "    </tr>\n",
       "    <tr>\n",
       "      <th>2012-07-26</th>\n",
       "      <td>DIVIDEND</td>\n",
       "      <td>1.90</td>\n",
       "    </tr>\n",
       "  </tbody>\n",
       "</table>\n",
       "</div>"
      ],
      "text/plain": [
       "              action  value\n",
       "2016-07-25  DIVIDEND   1.33\n",
       "2015-07-23  DIVIDEND   2.49\n",
       "2014-07-17  DIVIDEND   2.30\n",
       "2013-07-25  DIVIDEND   1.90\n",
       "2012-07-26  DIVIDEND   1.90"
      ]
     },
     "execution_count": 6,
     "metadata": {},
     "output_type": "execute_result"
    }
   ],
   "source": [
    "S1101Act.head()"
   ]
  },
  {
   "cell_type": "code",
   "execution_count": 7,
   "metadata": {
    "collapsed": false
   },
   "outputs": [],
   "source": [
    "S1101Divid = data.DataReader('1101.tw', 'yahoo-dividends',start,end)"
   ]
  },
  {
   "cell_type": "code",
   "execution_count": 8,
   "metadata": {
    "collapsed": false
   },
   "outputs": [
    {
     "data": {
      "text/html": [
       "<div>\n",
       "<table border=\"1\" class=\"dataframe\">\n",
       "  <thead>\n",
       "    <tr style=\"text-align: right;\">\n",
       "      <th></th>\n",
       "      <th>Dividends</th>\n",
       "    </tr>\n",
       "    <tr>\n",
       "      <th>Date</th>\n",
       "      <th></th>\n",
       "    </tr>\n",
       "  </thead>\n",
       "  <tbody>\n",
       "    <tr>\n",
       "      <th>2000-07-21</th>\n",
       "      <td>0.185185</td>\n",
       "    </tr>\n",
       "    <tr>\n",
       "      <th>2003-08-13</th>\n",
       "      <td>0.098039</td>\n",
       "    </tr>\n",
       "    <tr>\n",
       "      <th>2004-08-26</th>\n",
       "      <td>0.338164</td>\n",
       "    </tr>\n",
       "    <tr>\n",
       "      <th>2005-09-19</th>\n",
       "      <td>0.666667</td>\n",
       "    </tr>\n",
       "    <tr>\n",
       "      <th>2006-08-25</th>\n",
       "      <td>1.384320</td>\n",
       "    </tr>\n",
       "  </tbody>\n",
       "</table>\n",
       "</div>"
      ],
      "text/plain": [
       "            Dividends\n",
       "Date                 \n",
       "2000-07-21   0.185185\n",
       "2003-08-13   0.098039\n",
       "2004-08-26   0.338164\n",
       "2005-09-19   0.666667\n",
       "2006-08-25   1.384320"
      ]
     },
     "execution_count": 8,
     "metadata": {},
     "output_type": "execute_result"
    }
   ],
   "source": [
    "S1101Divid.head()"
   ]
  },
  {
   "cell_type": "code",
   "execution_count": 9,
   "metadata": {
    "collapsed": false
   },
   "outputs": [
    {
     "data": {
      "text/html": [
       "<div>\n",
       "<table border=\"1\" class=\"dataframe\">\n",
       "  <thead>\n",
       "    <tr style=\"text-align: right;\">\n",
       "      <th></th>\n",
       "      <th>Dividends</th>\n",
       "    </tr>\n",
       "    <tr>\n",
       "      <th>Date</th>\n",
       "      <th></th>\n",
       "    </tr>\n",
       "  </thead>\n",
       "  <tbody>\n",
       "    <tr>\n",
       "      <th>2012-07-26</th>\n",
       "      <td>1.90</td>\n",
       "    </tr>\n",
       "    <tr>\n",
       "      <th>2013-07-25</th>\n",
       "      <td>1.90</td>\n",
       "    </tr>\n",
       "    <tr>\n",
       "      <th>2014-07-17</th>\n",
       "      <td>2.30</td>\n",
       "    </tr>\n",
       "    <tr>\n",
       "      <th>2015-07-23</th>\n",
       "      <td>2.49</td>\n",
       "    </tr>\n",
       "    <tr>\n",
       "      <th>2016-07-25</th>\n",
       "      <td>1.33</td>\n",
       "    </tr>\n",
       "  </tbody>\n",
       "</table>\n",
       "</div>"
      ],
      "text/plain": [
       "            Dividends\n",
       "Date                 \n",
       "2012-07-26       1.90\n",
       "2013-07-25       1.90\n",
       "2014-07-17       2.30\n",
       "2015-07-23       2.49\n",
       "2016-07-25       1.33"
      ]
     },
     "execution_count": 9,
     "metadata": {},
     "output_type": "execute_result"
    }
   ],
   "source": [
    "S1101Divid.tail()"
   ]
  },
  {
   "cell_type": "markdown",
   "metadata": {},
   "source": [
    "# ＨＴＭＬ"
   ]
  },
  {
   "cell_type": "code",
   "execution_count": 25,
   "metadata": {
    "collapsed": false
   },
   "outputs": [],
   "source": [
    "url = 'http://www.wantgoo.com/Stock/report/basic_dp?StockNo=1101'"
   ]
  },
  {
   "cell_type": "code",
   "execution_count": 26,
   "metadata": {
    "collapsed": false
   },
   "outputs": [],
   "source": [
    "df = pd.io.html.read_html(url)"
   ]
  },
  {
   "cell_type": "code",
   "execution_count": 27,
   "metadata": {
    "collapsed": false
   },
   "outputs": [
    {
     "data": {
      "text/plain": [
       "pandas.core.frame.DataFrame"
      ]
     },
     "execution_count": 27,
     "metadata": {},
     "output_type": "execute_result"
    }
   ],
   "source": [
    "type(df[0])"
   ]
  },
  {
   "cell_type": "code",
   "execution_count": 28,
   "metadata": {
    "collapsed": false
   },
   "outputs": [
    {
     "data": {
      "text/html": [
       "<div>\n",
       "<table border=\"1\" class=\"dataframe\">\n",
       "  <thead>\n",
       "    <tr style=\"text-align: right;\">\n",
       "      <th></th>\n",
       "      <th>年度</th>\n",
       "      <th>除權息日</th>\n",
       "      <th>股票股利</th>\n",
       "      <th>現金股利</th>\n",
       "      <th>除權息前股價</th>\n",
       "      <th>現金殖利率%</th>\n",
       "      <th>扣抵稅率%</th>\n",
       "    </tr>\n",
       "  </thead>\n",
       "  <tbody>\n",
       "    <tr>\n",
       "      <th>0</th>\n",
       "      <td>2016</td>\n",
       "      <td>07/25</td>\n",
       "      <td>0.0</td>\n",
       "      <td>1.33</td>\n",
       "      <td>34.85</td>\n",
       "      <td>3.82</td>\n",
       "      <td>10.57</td>\n",
       "    </tr>\n",
       "    <tr>\n",
       "      <th>1</th>\n",
       "      <td>2015</td>\n",
       "      <td>07/23</td>\n",
       "      <td>0.0</td>\n",
       "      <td>2.49</td>\n",
       "      <td>39.10</td>\n",
       "      <td>6.37</td>\n",
       "      <td>8.55</td>\n",
       "    </tr>\n",
       "    <tr>\n",
       "      <th>2</th>\n",
       "      <td>2014</td>\n",
       "      <td>07/17</td>\n",
       "      <td>0.0</td>\n",
       "      <td>2.30</td>\n",
       "      <td>46.20</td>\n",
       "      <td>4.98</td>\n",
       "      <td>7.82</td>\n",
       "    </tr>\n",
       "    <tr>\n",
       "      <th>3</th>\n",
       "      <td>2013</td>\n",
       "      <td>07/25</td>\n",
       "      <td>0.0</td>\n",
       "      <td>1.90</td>\n",
       "      <td>38.50</td>\n",
       "      <td>4.94</td>\n",
       "      <td>5.72</td>\n",
       "    </tr>\n",
       "    <tr>\n",
       "      <th>4</th>\n",
       "      <td>2012</td>\n",
       "      <td>07/26</td>\n",
       "      <td>0.0</td>\n",
       "      <td>1.90</td>\n",
       "      <td>35.40</td>\n",
       "      <td>5.37</td>\n",
       "      <td>5.75</td>\n",
       "    </tr>\n",
       "    <tr>\n",
       "      <th>5</th>\n",
       "      <td>2011</td>\n",
       "      <td>7/26</td>\n",
       "      <td>0.0</td>\n",
       "      <td>2.00</td>\n",
       "      <td>48.30</td>\n",
       "      <td>4.14</td>\n",
       "      <td>11.23</td>\n",
       "    </tr>\n",
       "    <tr>\n",
       "      <th>6</th>\n",
       "      <td>2010</td>\n",
       "      <td>7/14</td>\n",
       "      <td>0.0</td>\n",
       "      <td>1.80</td>\n",
       "      <td>28.85</td>\n",
       "      <td>6.24</td>\n",
       "      <td>2.60</td>\n",
       "    </tr>\n",
       "    <tr>\n",
       "      <th>7</th>\n",
       "      <td>2009</td>\n",
       "      <td>NaN</td>\n",
       "      <td>0.0</td>\n",
       "      <td>1.32</td>\n",
       "      <td>32.42</td>\n",
       "      <td>4.07</td>\n",
       "      <td>NaN</td>\n",
       "    </tr>\n",
       "    <tr>\n",
       "      <th>8</th>\n",
       "      <td>2008</td>\n",
       "      <td>NaN</td>\n",
       "      <td>0.1</td>\n",
       "      <td>1.90</td>\n",
       "      <td>38.48</td>\n",
       "      <td>4.94</td>\n",
       "      <td>NaN</td>\n",
       "    </tr>\n",
       "    <tr>\n",
       "      <th>9</th>\n",
       "      <td>2007</td>\n",
       "      <td>NaN</td>\n",
       "      <td>0.1</td>\n",
       "      <td>1.70</td>\n",
       "      <td>37.75</td>\n",
       "      <td>4.50</td>\n",
       "      <td>NaN</td>\n",
       "    </tr>\n",
       "  </tbody>\n",
       "</table>\n",
       "</div>"
      ],
      "text/plain": [
       "     年度   除權息日  股票股利  現金股利  除權息前股價  現金殖利率%  扣抵稅率%\n",
       "0  2016  07/25   0.0  1.33   34.85    3.82  10.57\n",
       "1  2015  07/23   0.0  2.49   39.10    6.37   8.55\n",
       "2  2014  07/17   0.0  2.30   46.20    4.98   7.82\n",
       "3  2013  07/25   0.0  1.90   38.50    4.94   5.72\n",
       "4  2012  07/26   0.0  1.90   35.40    5.37   5.75\n",
       "5  2011   7/26   0.0  2.00   48.30    4.14  11.23\n",
       "6  2010   7/14   0.0  1.80   28.85    6.24   2.60\n",
       "7  2009    NaN   0.0  1.32   32.42    4.07    NaN\n",
       "8  2008    NaN   0.1  1.90   38.48    4.94    NaN\n",
       "9  2007    NaN   0.1  1.70   37.75    4.50    NaN"
      ]
     },
     "execution_count": 28,
     "metadata": {},
     "output_type": "execute_result"
    }
   ],
   "source": [
    "df[0]"
   ]
  },
  {
   "cell_type": "code",
   "execution_count": 33,
   "metadata": {
    "collapsed": false
   },
   "outputs": [
    {
     "name": "stdout",
     "output_type": "stream",
     "text": [
      "\n",
      "No. 0 DataFrame\n",
      "     年度   除權息日  股票股利  現金股利  除權息前股價  現金殖利率%  扣抵稅率%\n",
      "0  2016  07/25   0.0  1.33   34.85    3.82  10.57\n",
      "1  2015  07/23   0.0  2.49   39.10    6.37   8.55\n",
      "2  2014  07/17   0.0  2.30   46.20    4.98   7.82\n",
      "3  2013  07/25   0.0  1.90   38.50    4.94   5.72\n",
      "4  2012  07/26   0.0  1.90   35.40    5.37   5.75\n",
      "5  2011   7/26   0.0  2.00   48.30    4.14  11.23\n",
      "6  2010   7/14   0.0  1.80   28.85    6.24   2.60\n",
      "7  2009    NaN   0.0  1.32   32.42    4.07    NaN\n",
      "8  2008    NaN   0.1  1.90   38.48    4.94    NaN\n",
      "9  2007    NaN   0.1  1.70   37.75    4.50    NaN\n",
      "\n",
      "No. 1 DataFrame\n",
      "        買超   張數     賣超  張數.1\n",
      "0       凱基  995  凱基-信義  -576\n",
      "1     美商高盛  577     富邦  -348\n",
      "2  元大-新店中正  310  港商麥格理  -321\n",
      "3       台新  167  元大-復北  -300\n",
      "4       美林  151  國票-台南  -201\n",
      "\n",
      "No. 2 DataFrame\n",
      "     名稱     漲幅%      名稱.1   漲幅%.1\n",
      "0  資產概念   ▲0.08      內需收成  ▼-0.01\n",
      "1  香港掛牌  ▼-0.04  兩岸三地500指  ▼-0.16\n",
      "2  MSCI  ▼-0.22      中概內需  ▼-0.26\n",
      "3  基礎建設  ▼-0.26      現股當沖  ▼-0.28\n",
      "\n",
      "No. 3 DataFrame\n",
      "          名稱         到期日       名稱.1       到期日.1\n",
      "0  台泥日盛69購01  2017-09-14  台泥日盛69購01  2017-08-15\n",
      "1  台泥元大68購01  2017-08-15  台泥元大68購01  2017-08-14\n",
      "2  台泥元大68購02  2017-08-14  台泥元大68購02  2017-07-28\n",
      "3  台泥永豐66購01  2017-06-27  台泥永豐66購01  2017-06-21\n",
      "4  台泥國泰66購01  2017-06-20  台泥國泰66購01  2017-06-12\n",
      "5  台泥凱基66售02  2017-06-12  台泥凱基66售02  2017-05-23\n",
      "6  台泥統一65購01  2017-05-18  台泥統一65購01  2017-05-12\n",
      "\n",
      "No. 4 DataFrame\n",
      "   股票     股價     漲跌    漲幅%      成交量\n",
      "0  華榮   9.71  ▲0.57  6.24%  3687000\n",
      "1  嘉泥  11.50  ▲0.35  3.14%  2648000\n",
      "2  士紙  35.50   ▲0.6  1.72%    63000\n",
      "3  國產   8.65  ▲0.14  1.65%  2711000\n",
      "4  唐榮  49.10  ▲0.75  1.55%    12000\n",
      "5  達新  26.25  ▲0.25  0.96%    26000\n",
      "\n",
      "No. 5 DataFrame\n",
      "       股票     股價      漲跌     漲幅%   成交量\n",
      "0      嘉泥  11.50   ▲0.35   3.14%  2648\n",
      "1  美源伯根公司  86.60   ▲0.61   0.71%   486\n",
      "2      東泥  16.30   ▲0.05   0.31%    47\n",
      "3      環泥  26.70       0   0.00%   226\n",
      "4      聯成  13.45   ▼-0.1  -0.74%  1647\n",
      "5      亞泥  30.25  ▼-0.55  -1.79%  2655\n",
      "\n",
      "No. 6 DataFrame\n",
      "      日期    外資   投信   自營    總和\n",
      "0  03/24   207  -99 -160   -52\n",
      "1  03/23  -353 -100  227  -226\n",
      "2  03/22 -1868    0  -35 -1903\n",
      "3  03/21   422  -98 -460  -136\n",
      "4  03/20  -204   97  -88  -195\n",
      "5  03/17   765   60   67   892\n",
      "6  03/16  1034   47  -16  1065\n",
      "7  03/15  1889 -110  573  2352\n",
      "\n",
      "No. 7 DataFrame\n",
      "   融資變化  融資餘額  資券互抵\n",
      "0   -87  5495     1\n",
      "\n",
      "No. 8 DataFrame\n",
      "      期間    2017    2016\n",
      "0   每股盈餘     NaN    1.23\n",
      "1  營業毛利率     NaN  16.34%\n",
      "2  營業利益率     NaN  10.52%\n",
      "3  稅前純益率     NaN   9.72%\n",
      "4   累計營收  1209.0    8957\n",
      "5  無償配股率     NaN   0.00%\n",
      "6   現金股利     NaN    1.33\n"
     ]
    }
   ],
   "source": [
    "cnt = 0\n",
    "for i in df:\n",
    "    print('\\nNo. %d DataFrame'% cnt)\n",
    "    print(i)\n",
    "    cnt = cnt +1"
   ]
  },
  {
   "cell_type": "code",
   "execution_count": null,
   "metadata": {
    "collapsed": true
   },
   "outputs": [],
   "source": []
  }
 ],
 "metadata": {
  "kernelspec": {
   "display_name": "Python [conda root]",
   "language": "python",
   "name": "conda-root-py"
  },
  "language_info": {
   "codemirror_mode": {
    "name": "ipython",
    "version": 3
   },
   "file_extension": ".py",
   "mimetype": "text/x-python",
   "name": "python",
   "nbconvert_exporter": "python",
   "pygments_lexer": "ipython3",
   "version": "3.5.2"
  }
 },
 "nbformat": 4,
 "nbformat_minor": 2
}
